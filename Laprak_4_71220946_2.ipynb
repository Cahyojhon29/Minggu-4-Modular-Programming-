{
  "nbformat": 4,
  "nbformat_minor": 0,
  "metadata": {
    "colab": {
      "provenance": []
    },
    "kernelspec": {
      "name": "python3",
      "display_name": "Python 3"
    },
    "language_info": {
      "name": "python"
    }
  },
  "cells": [
    {
      "cell_type": "code",
      "execution_count": null,
      "metadata": {
        "id": "H2lN0Fpd8GzR"
      },
      "outputs": [],
      "source": [
        "#Latihan 4.2\n",
        "print(\"========== Fungsi Cek Digit Belakang Nih Boss ==========\")\n",
        "print(\"\")\n",
        "\n",
        "def cek_digit_belakang(x, y, z):\n",
        "    if x % 10 == y % 10 or x % 10 == z % 10 or y % 10 == z % 10:\n",
        "        return True\n",
        "    else:\n",
        "        return False\n",
        "\n",
        "#Hasil Output Fungsi\n",
        "print(cek_digit_belakang(30, 20, 18))\n",
        "print(cek_digit_belakang(145, 5, 100))\n",
        "print(cek_digit_belakang(71, 187, 18))\n",
        "print(cek_digit_belakang(1024, 14, 94))\n",
        "print(cek_digit_belakang(53, 8900, 658))"
      ]
    }
  ]
}