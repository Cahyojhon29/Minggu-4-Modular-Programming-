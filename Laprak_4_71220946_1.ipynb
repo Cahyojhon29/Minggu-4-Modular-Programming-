{
  "nbformat": 4,
  "nbformat_minor": 0,
  "metadata": {
    "colab": {
      "provenance": []
    },
    "kernelspec": {
      "name": "python3",
      "display_name": "Python 3"
    },
    "language_info": {
      "name": "python"
    }
  },
  "cells": [
    {
      "cell_type": "code",
      "execution_count": null,
      "metadata": {
        "id": "XiBA_oJS7Cb-"
      },
      "outputs": [],
      "source": [
        "print(\"========== Cek Angka Nih Boss ==========\")\n",
        "x = int(input(\"Masukkan Bilangan Bulat x : \"))\n",
        "y = int(input(\"Masukkan Bilangan Bulat y : \"))\n",
        "z = int(input(\"Masukkan Bilangan Bulat z : \"))\n",
        "\n",
        "def cek_angka(x, y, z):\n",
        "    if x != y and y != z and z != x:\n",
        "        return True\n",
        "    if x + y == z or x + z == y or y + z == x:\n",
        "        return False\n",
        "\n",
        "print(cek_angka(x, y, z))"
      ]
    }
  ]
}