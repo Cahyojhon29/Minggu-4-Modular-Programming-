{
  "nbformat": 4,
  "nbformat_minor": 0,
  "metadata": {
    "colab": {
      "provenance": []
    },
    "kernelspec": {
      "name": "python3",
      "display_name": "Python 3"
    },
    "language_info": {
      "name": "python"
    }
  },
  "cells": [
    {
      "cell_type": "code",
      "execution_count": null,
      "metadata": {
        "id": "QGwvNFaY8EKI"
      },
      "outputs": [],
      "source": [
        "celcius_ke_fahrenheit = lambda c: (9/5)*c + 32\n",
        "celcius_ke_reamur = lambda c: 0.8*c\n",
        "\n",
        "c = 100\n",
        "f = celcius_ke_fahrenheit(c)\n",
        "print(\"Input C = {}. Output F = {}.\".format(c, f))\n",
        "\n",
        "c = 80\n",
        "r = celcius_ke_reamur(c)\n",
        "print(\"Input C = {}. Output R = {}.\".format(c, r))\n",
        "\n",
        "c = 0\n",
        "f = celcius_ke_fahrenheit(c)\n",
        "print(\"Input C = {}. Output F = {}.\".format(c, f))\n"
      ]
    }
  ]
}